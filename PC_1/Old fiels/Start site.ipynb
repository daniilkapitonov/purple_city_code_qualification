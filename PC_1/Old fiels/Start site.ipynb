{
 "cells": [
  {
   "cell_type": "code",
   "execution_count": 2,
   "id": "04465306",
   "metadata": {
    "scrolled": true
   },
   "outputs": [
    {
     "name": "stdout",
     "output_type": "stream",
     "text": [
      "Looking in indexes: https://pypi.org/simple, https://www.piwheels.org/simple\n",
      "Requirement already satisfied: requests in /usr/lib/python2.7/dist-packages (2.21.0)\n",
      "Collecting bs4\n",
      "  Downloading https://files.pythonhosted.org/packages/10/ed/7e8b97591f6f456174139ec089c769f89a94a1a4025fe967691de971f314/bs4-0.0.1.tar.gz\n",
      "Collecting beautifulsoup4 (from bs4)\n",
      "\u001b[?25l  Downloading https://files.pythonhosted.org/packages/1c/d9/8c507915ff962b9e854b477b203c171074f59cce9465dac9f71c2b57ebd6/beautifulsoup4-4.9.3-py2-none-any.whl (115kB)\n",
      "\u001b[K    100% |████████████████████████████████| 122kB 999kB/s ta 0:00:01\n",
      "\u001b[?25hCollecting soupsieve<2.0,>1.2; python_version < \"3.0\" (from beautifulsoup4->bs4)\n",
      "  Downloading https://files.pythonhosted.org/packages/39/36/f35056eb9978a622bbcedc554993d10777e3c6ff1ca24cde53f4be9c5fc4/soupsieve-1.9.6-py2.py3-none-any.whl\n",
      "Requirement already satisfied: backports.functools-lru-cache; python_version < \"3\" in /home/pi/.local/lib/python2.7/site-packages (from soupsieve<2.0,>1.2; python_version < \"3.0\"->beautifulsoup4->bs4) (1.6.3)\n",
      "Building wheels for collected packages: bs4\n",
      "  Running setup.py bdist_wheel for bs4 ... \u001b[?25ldone\n",
      "\u001b[?25h  Stored in directory: /home/pi/.cache/pip/wheels/a0/b0/b2/4f80b9456b87abedbc0bf2d52235414c3467d8889be38dd472\n",
      "Successfully built bs4\n",
      "Installing collected packages: soupsieve, beautifulsoup4, bs4\n",
      "Successfully installed beautifulsoup4-4.9.3 bs4-0.0.1 soupsieve-1.9.6\n"
     ]
    }
   ],
   "source": [
    "!pip install requests bs4"
   ]
  },
  {
   "cell_type": "code",
   "execution_count": 2,
   "id": "8737fe59",
   "metadata": {},
   "outputs": [],
   "source": [
    "import os\n",
    "os.chmod(\"/home/pi/Desktop/Demo/test_4.py\", 8005)"
   ]
  },
  {
   "cell_type": "code",
   "execution_count": null,
   "id": "bcaf8891",
   "metadata": {},
   "outputs": [
    {
     "name": "stderr",
     "output_type": "stream",
     "text": [
      "127.0.0.1 - - [08/Apr/2021 16:23:36] \"GET /test_4.py HTTP/1.1\" 200 -\n",
      "127.0.0.1 - - [08/Apr/2021 16:23:37] code 404, message File not found\n",
      "127.0.0.1 - - [08/Apr/2021 16:23:37] \"GET /favicon.ico HTTP/1.1\" 404 -\n",
      "127.0.0.1 - - [08/Apr/2021 16:25:06] \"GET /test_4.py HTTP/1.1\" 304 -\n",
      "127.0.0.1 - - [08/Apr/2021 16:25:47] \"GET /test_5.py HTTP/1.1\" 200 -\n",
      "127.0.0.1 - - [08/Apr/2021 16:25:59] \"GET /test_5.py HTTP/1.1\" 200 -\n",
      "127.0.0.1 - - [08/Apr/2021 16:26:00] \"GET /test_5.py HTTP/1.1\" 304 -\n",
      "127.0.0.1 - - [08/Apr/2021 16:26:00] \"GET /test_5.py HTTP/1.1\" 304 -\n",
      "127.0.0.1 - - [08/Apr/2021 16:26:01] \"GET /test_5.py HTTP/1.1\" 304 -\n",
      "127.0.0.1 - - [08/Apr/2021 16:26:01] \"GET /test_5.py HTTP/1.1\" 304 -\n",
      "127.0.0.1 - - [08/Apr/2021 16:26:01] \"GET /test_5.py HTTP/1.1\" 304 -\n",
      "127.0.0.1 - - [08/Apr/2021 16:58:13] \"GET /test_4.py HTTP/1.1\" 304 -\n",
      "127.0.0.1 - - [08/Apr/2021 17:01:08] code 404, message File not found\n",
      "127.0.0.1 - - [08/Apr/2021 17:01:08] \"GET /polls/ HTTP/1.1\" 404 -\n",
      "127.0.0.1 - - [08/Apr/2021 17:05:34] code 404, message File not found\n",
      "127.0.0.1 - - [08/Apr/2021 17:05:34] \"GET /polls/ HTTP/1.1\" 404 -\n"
     ]
    }
   ],
   "source": [
    "from http.server import HTTPServer, CGIHTTPRequestHandler\n",
    "server_address = (\"\", 8000)\n",
    "httpd = HTTPServer(server_address, CGIHTTPRequestHandler)\n",
    "httpd.serve_forever()"
   ]
  },
  {
   "cell_type": "code",
   "execution_count": null,
   "id": "3f4e6875",
   "metadata": {},
   "outputs": [],
   "source": []
  }
 ],
 "metadata": {
  "kernelspec": {
   "display_name": "Python 3",
   "language": "python",
   "name": "python3"
  },
  "language_info": {
   "codemirror_mode": {
    "name": "ipython",
    "version": 3
   },
   "file_extension": ".py",
   "mimetype": "text/x-python",
   "name": "python",
   "nbconvert_exporter": "python",
   "pygments_lexer": "ipython3",
   "version": "3.7.3"
  }
 },
 "nbformat": 4,
 "nbformat_minor": 5
}
